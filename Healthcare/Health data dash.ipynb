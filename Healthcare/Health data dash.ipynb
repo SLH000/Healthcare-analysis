{
 "cells": [
  {
   "cell_type": "markdown",
   "metadata": {},
   "source": [
    "# Health Data Dashboard"
   ]
  },
  {
   "cell_type": "code",
   "execution_count": null,
   "metadata": {},
   "outputs": [],
   "source": [
    "# Import Library\n",
    "import streamlit as st\n",
    "import plotly.express as px\n",
    "import pandas as pd\n",
    "import os\n",
    "import warnings\n",
    "warnings.filterwarnings('ignore')"
   ]
  },
  {
   "cell_type": "code",
   "execution_count": null,
   "metadata": {},
   "outputs": [],
   "source": [
    "# Setting the title\n",
    "st.set_page_config(page_title=\"Healthcare Data\",  page_icon=\":bar_chart\", layout=\"wide\")\n",
    "st.title(\":bar_chart: Healthcare Data Dashboard\")\n",
    "st.markdown('<style>div.block-container{padding-top:2rem;}</style>', unsafe_allow_html=True)"
   ]
  },
  {
   "cell_type": "markdown",
   "metadata": {},
   "source": [
    "### Load Data"
   ]
  },
  {
   "cell_type": "code",
   "execution_count": null,
   "metadata": {},
   "outputs": [],
   "source": [
    "# Load the csv file\n",
    "file_path = \"healthcare_dataset.csv\"\n",
    "df = pd.read_csv(file_path)"
   ]
  },
  {
   "cell_type": "markdown",
   "metadata": {},
   "source": [
    "### Data Cleaning"
   ]
  },
  {
   "cell_type": "code",
   "execution_count": null,
   "metadata": {},
   "outputs": [],
   "source": [
    "\n",
    "# Convert 'Date of Admission' to datetime\n",
    "df['Date of Admission'] = pd.to_datetime(df['Date of Admission'], errors='coerce')\n",
    "\n",
    "# Check for NaT values in 'Date of Admission' after conversion\n",
    "nat_count = df['Date of Admission'].isna().sum()\n",
    "if nat_count > 0:\n",
    "    st.warning(f\"There are {nat_count} invalid date entries in 'Date of Admission'.\")\n",
    "\n",
    "# Clean the DataFrame (remove rows where Name is NaN)\n",
    "df_clean = df[df['Name'].notna()]"
   ]
  },
  {
   "cell_type": "markdown",
   "metadata": {},
   "source": [
    "### Filter by Year"
   ]
  },
  {
   "cell_type": "code",
   "execution_count": null,
   "metadata": {},
   "outputs": [],
   "source": [
    "# Getting the unique years for the dropdown\n",
    "df_clean['Year'] = df_clean['Date of Admission'].dt.year  # Extract the year\n",
    "years = df_clean['Year'].unique()  # Get unique years\n",
    "years.sort()  # Sort the years\n",
    "\n",
    "# Include an \"All Years\" option\n",
    "all_years_option = \"All Years\"\n",
    "year_options = [all_years_option] + years.tolist()  # Add \"All Years\" to the list\n",
    "\n",
    "# Create a dropdown to select a year\n",
    "selected_year = st.selectbox(\"Select Year\", year_options)\n",
    "\n",
    "# Filter the DataFrame based on the selected year\n",
    "if selected_year == all_years_option:\n",
    "    df_clean_filtered = df_clean.copy()  # No filtering, show all data\n",
    "else:\n",
    "    df_clean_filtered = df_clean[df_clean['Year'] == int(selected_year)].copy()\n",
    "\n",
    "# Display the filtered DataFrame\n",
    "st.write(f\"Filtered Data for Year: {selected_year}\", df_clean_filtered)"
   ]
  },
  {
   "cell_type": "markdown",
   "metadata": {},
   "source": [
    "### Second Row"
   ]
  },
  {
   "cell_type": "code",
   "execution_count": null,
   "metadata": {},
   "outputs": [],
   "source": [
    "# Add total number of Patient, Doctor, Hospital, Billing amount and Insurance Provider\n",
    "st.header('Patient Overview')\n",
    "total_patients = df_clean_filtered['Name'].nunique()\n",
    "total_bill = df_clean_filtered['Billing Amount'].sum()\n",
    "total_hospital = df_clean_filtered['Hospital'].nunique()\n",
    "total_doctor = df_clean_filtered['Doctor'].nunique()\n",
    "total_insurance = df_clean_filtered[\"Insurance Provider\"].nunique()\n",
    "\n",
    "col1, col2, col3, col4, col5 = st.columns(5)\n",
    "col1.metric(\"Total Patients\", total_patients)  # Corrected\n",
    "col2.metric(\"Total Billing Amount\", f\"${total_bill:,.2f}\")  # Formatted billing amount\n",
    "col3.metric(\"Total Hospitals\", total_hospital)\n",
    "col4.metric(\"Total Doctors\", total_doctor)\n",
    "col5.metric(\"Total Insurance Providers\", total_insurance)\n",
    "\n",
    "col1, col2, col3 = st.columns(3)\n",
    "# ---- Plot 1: Patient Distribution by Gender (Pie Chart) ----\n",
    "with col1:\n",
    "    st.subheader('Patient Distribution by Gender')\n",
    "    gender_count = df_clean_filtered['Gender'].value_counts()\n",
    "    fig_gender_pie = px.pie(values=gender_count.values, \n",
    "                            names=gender_count.index, \n",
    "                            hole=0.4,\n",
    "                            color_discrete_sequence=px.colors.qualitative.Set2)\n",
    "    st.plotly_chart(fig_gender_pie)\n",
    "\n",
    "# ---- Plot 2: Total Patients by Age Group (Bar Chart) ----\n",
    "with col2:\n",
    "    st.subheader('Total Patients by Age Group')\n",
    "    # Define age bins and group patients by age\n",
    "    bins = [0, 18, 35, 50, 65, 80, 100]\n",
    "    labels = ['0-18', '19-35', '36-50', '51-65', '66-80', '81-100']\n",
    "    df_clean_filtered['Age Group'] = pd.cut(df_clean_filtered['Age'], bins=bins, labels=labels, right=False)\n",
    "    \n",
    "    # Count the number of patients in each age group\n",
    "    age_group_count = df_clean_filtered['Age Group'].value_counts().sort_index()\n",
    "    \n",
    "    fig_age = px.bar(age_group_count, \n",
    "                     x=age_group_count.index, \n",
    "                     y=age_group_count.values, \n",
    "                     labels={'x': 'Age Group', 'y': 'Count'},\n",
    "                     title=\"Patients by Age Group\",\n",
    "                    color_discrete_sequence=px.colors.qualitative.Set1_r)\n",
    "    st.plotly_chart(fig_age)\n",
    "    \n",
    "    # ---- Plot 3: Total Billing Amount by Year (Bar Chart) ----\n",
    "with col3:\n",
    "    st.subheader('Total Billing Amount by Year')\n",
    "    \n",
    "    # Extract the year from 'Date of Admission'\n",
    "    df_clean_filtered['Year of Admission'] = pd.to_datetime(df_clean_filtered['Date of Admission']).dt.year\n",
    "    \n",
    "    # Group by year and sum the billing amounts\n",
    "    billing_by_year = df_clean_filtered.groupby('Year of Admission')['Billing Amount'].sum().reset_index()\n",
    "    \n",
    "    fig_billing = px.line(billing_by_year, \n",
    "                         x='Year of Admission', \n",
    "                         y='Billing Amount', \n",
    "                         labels={'Year of Admission': 'Year', 'Billing Amount': 'Total Billing Amount'},\n",
    "                         title=\"Total Billing Amount by Year\",\n",
    "                         color_discrete_sequence=px.colors.qualitative.Set1)\n",
    "    st.plotly_chart(fig_billing)"
   ]
  },
  {
   "cell_type": "markdown",
   "metadata": {},
   "source": [
    "### Third Row"
   ]
  },
  {
   "cell_type": "code",
   "execution_count": null,
   "metadata": {},
   "outputs": [],
   "source": [
    "# Create three columns for the second set of plots\n",
    "col1, col2, col3 = st.columns(3)\n",
    "\n",
    "# ---- Plot 1: Total Patients by Medical Condition (Bar Chart) ----\n",
    "with col1:\n",
    "    # st.subheader('Total Patients by Medical Condition')\n",
    "    condition_count = df_clean_filtered['Medical Condition'].value_counts()\n",
    "    \n",
    "    fig_condition = px.bar(condition_count, \n",
    "                           x=condition_count.index, \n",
    "                           y=condition_count.values, \n",
    "                           labels={'x': 'Medical Condition', 'y': 'Count'},\n",
    "                           title=\"Patients by Medical Condition\",\n",
    "                           color_discrete_sequence=px.colors.qualitative.Set2)\n",
    "    st.plotly_chart(fig_condition)\n",
    "    # ---- Plot 2: Total Patients by Admission Type (Bar Chart) ----\n",
    "with col2:\n",
    "    # st.subheader('Total Patients by Admission Type')\n",
    "    admission_count = df_clean_filtered['Admission Type'].value_counts()\n",
    "    \n",
    "    fig_admission = px.bar(admission_count, \n",
    "                           x=admission_count.index, \n",
    "                           y=admission_count.values, \n",
    "                           labels={'x': 'Admission Type', 'y': 'Count'},\n",
    "                           title=\"Patients by Admission Type\",\n",
    "                           color_discrete_sequence=px.colors.qualitative.Set3)\n",
    "    st.plotly_chart(fig_admission)\n",
    "\n",
    "# ---- Plot 3: Total Billing Amount by Insurance Provider (Donut Chart) ----\n",
    "with col3:\n",
    "    # st.subheader('Total Billing Amount by Insurance Provider')\n",
    "    \n",
    "    # Group by Insurance Provider and sum the billing amounts\n",
    "    billing_by_insurance = df_clean_filtered.groupby('Insurance Provider')['Billing Amount'].sum().reset_index()\n",
    "    \n",
    "    fig_donut = px.pie(billing_by_insurance, \n",
    "                       names='Insurance Provider', \n",
    "                       values='Billing Amount', \n",
    "                       hole=0.4,  # This makes it a donut chart\n",
    "                       title=\"Total Billing Amount by Insurance Provider\",\n",
    "                       color_discrete_sequence=px.colors.qualitative.Pastel)\n",
    "    \n",
    "    st.plotly_chart(fig_donut)"
   ]
  }
 ],
 "metadata": {
  "language_info": {
   "name": "python"
  }
 },
 "nbformat": 4,
 "nbformat_minor": 2
}
